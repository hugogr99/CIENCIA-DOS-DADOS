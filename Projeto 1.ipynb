{
 "cells": [
  {
   "cell_type": "markdown",
   "metadata": {
    "collapsed": true
   },
   "source": [
    "# OBJETIVO: ESTUDAR O USO DE INTERNET E SEUS MEIOS NO NORDESTE\n",
    "\n",
    "# Hugo Gonçalves Rocha - Ciência dos Dados\n",
    "    \n",
    "    \n",
    "            Um grande indicador de desenvolvimento de um determinado local é o acesso que seus habitantes possuem à internet. No Brasil, a 11ª edição da pesquisa TIC Domicílios 2015 afirma que apenas 58% dos brasileiros possuem acesso à internet, e naturalmente, as regiões mais pobres estão mais sujeitas à falta do recurso. A região brasileira mais pobre em termos absolutos é o Nordeste. Embora apresente melhora ao longo dos anos, a região possuia, segundo dados do IPEA, metade da população considerada pobre do país ao fim da primeira década do século XXI.\n",
    "            Meu objetivo no Projeto 1 de Ciência dos Dados é estudar como o uso da internet se difundiu/retraiu entre os anos de 2013 e 2015. Para isso, utilizarei os dados da PNAD no que diz respeito ao uso de internet em casa e os meios para tal (celular, computador, tablet). O objetivo principal é comparar a situação nos três anos e identificar a possível causa de melhora/piora."
   ]
  },
  {
   "cell_type": "markdown",
   "metadata": {},
   "source": [
    "# Perguntas\n",
    "\n",
    "- Qual estado do nordeste apresentou maior melhora no número de pessoas com acesso à internet no período?\n",
    "- O meio rural tornou-se mais conectado?\n",
    "- Qual meio de acesso apresentou maior crescimento em números absolutos de usuários no período?"
   ]
  },
  {
   "cell_type": "code",
   "execution_count": 4,
   "metadata": {
    "collapsed": true
   },
   "outputs": [],
   "source": [
    "%matplotlib inline\n",
    "import pandas as pd\n",
    "import matplotlib.pyplot as plt\n",
    "import os\n",
    "from numpy import arange"
   ]
  },
  {
   "cell_type": "code",
   "execution_count": 25,
   "metadata": {
    "scrolled": true
   },
   "outputs": [
    {
     "name": "stdout",
     "output_type": "stream",
     "text": [
      "Esperamos trabalhar no diretório\n",
      "C:\\Users\\hugon\\Desktop\\INSPER\\2º semestre\\Ciência dos Dados\\Projeto 1\n"
     ]
    }
   ],
   "source": [
    "print('Esperamos trabalhar no diretório')\n",
    "print(os.getcwd())\n",
    "dados = pd.read_csv('DOM2015.csv')\n",
    "dados2 = pd.read_csv('DOM2014.csv')"
   ]
  },
  {
   "cell_type": "code",
   "execution_count": 55,
   "metadata": {
    "collapsed": true
   },
   "outputs": [],
   "source": [
    "# VARIÁVEIS 2014\n",
    "dados.UF2014 = dados2.UF.astype('category')\n",
    "dados.ACESSO2014 = dados2.V02322.astype('category')\n",
    "dados.SALARIO2014 = dados2.V4621.astype('float')\n",
    "dados.COMP2014 = dados2.V02323.astype('category')\n",
    "dados.CEL2014 = dados2.V02324.astype('category')\n",
    "dados.REG2014 = dados2.V4105.astype('category')\n",
    "dados.TAB2014 = dados2.V02325.astype('category')\n",
    "\n",
    "\n",
    "# VARIÁVEIS 2015\n",
    "dados.UF2015 = dados.UF.astype('category')\n",
    "dados.ACESSO2015 = dados.V02322.astype('category')\n",
    "dados.SALARIO2015 = dados.V4621.astype('float')\n",
    "dados.COMP2015 = dados.V02323.astype('category')\n",
    "dados.CEL2015 = dados.V02324.astype('category')\n",
    "dados.REG2015 = dados.V4105.astype('category')\n",
    "dados.TAB2015 = dados.V02325.astype('category')\n",
    "\n"
   ]
  },
  {
   "cell_type": "code",
   "execution_count": 60,
   "metadata": {},
   "outputs": [],
   "source": [
    "dados.UF2014.cat.categories = (['Rondônia','Acre','Amazonas','Roraima','Pará','Amapá','Tocantins','Maranhão','Piauí','Ceará','Rio Grande do Norte','Paraíba','Pernambuco','Alagoas','Sergipe','Bahia','Minas Gerais','Espírito Santo','Rio de Janeiro','São Paulo','Paraná','Santa Catarina','Rio Grande do Sul','Mato Grosso do Sul','Mato Grosso','Goiás','Distrito Federal'])\n",
    "dados.ACESSO2014.cat.categories = (['Possui acesso','Não possui acesso'])\n",
    "dados.COMP2014.cat.categories = (['Sim','Não'])\n",
    "dados.CEL2014.cat.categories = (['Sim','Não'])\n",
    "dados.REG2014.cat.categories = (['URBANA - Cidade ou vila, área urbanizada', 'URBANA - Cidade ou vila, área não urbanizada','URBANA - área urbana isolada','RURAL - Aglomerado rural de extensão urbana','RURAL - Aglomerado rural, isolado, povoado','RURAL - Aglomerado rural, isolado, núcleo','RURAL - Aglomerado rural, isolado, outros aglomerados','RURAL - Zona rural exclusive aglomerado rural'])\n",
    "dados.TAB2014.cat.categories = (['Sim','Não'])\n",
    "\n",
    "d2 = pd.concat([dados.UF2014, dados.REG2014, dados.SALARIO2014, dados.ACESSO2014], axis = 1)\n",
    "d2.columns = ['ESTADO','ZONA','RENDA PER CAPITA (em R$)','ACESSO À INTERNET EM CASA']\n",
    "nordeste2014a = d2[(d2['ESTADO'] == 'Maranhão') | (d2['ESTADO'] == 'Piauí')| (d2['ESTADO'] == 'Ceará')| (d2['ESTADO'] == 'Rio Grande do Norte')| (d2['ESTADO'] == 'Paraíba')| (d2['ESTADO'] == 'Pernambuco')| (d2['ESTADO'] == 'Alagoas')| (d2['ESTADO'] == 'Sergipe')| (d2['ESTADO'] == 'Bahia')]\n",
    "nordeste2014a = nordeste2014a.dropna()\n",
    "\n",
    "nordeste2014a.loc[(dados.REG2014 =='URBANA - Cidade ou vila, área urbanizada') |(dados.REG2014 == 'URBANA - Cidade ou vila, área não urbanizada')|(dados.REG2014 =='URBANA - área urbana isolada'), 'ZONA2'] = 'Urbana'\n",
    "nordeste2014a.loc[(dados.REG2014 =='RURAL - Aglomerado rural de extensão urbana')|(dados.REG2014 == 'RURAL - Aglomerado rural, isolado, povoado')|(dados.REG2014 =='RURAL - Aglomerado rural, isolado, núcleo') | (dados.REG2014 == 'RURAL - Aglomerado rural, isolado, outros aglomerados')|(dados.REG2014 == 'RURAL - Zona rural exclusive aglomerado rural'), 'ZONA2']= 'Rural'\n"
   ]
  },
  {
   "cell_type": "code",
   "execution_count": 69,
   "metadata": {
    "collapsed": true
   },
   "outputs": [],
   "source": [
    "d22 = pd.concat([dados.UF2014, dados.REG2014, dados.SALARIO2014, dados.ACESSO2014, dados.COMP2014, dados.CEL2014, dados.TAB2014], axis = 1)\n",
    "d22.columns = ['ESTADO','ZONA','RENDA PER CAPITA (em R$)','ACESSO À INTERNET EM CASA','ACESSO À INTERNET POR MICROCOMPUTADOR', 'ACESSO À INTERNET POR CELULAR', 'ACESSO À INTERNET POR TABLET' ]\n",
    "nordeste2014b = d22[(d22['ESTADO'] == 'Maranhão') | (d22['ESTADO'] == 'Piauí')| (d22['ESTADO'] == 'Ceará')| (d22['ESTADO'] == 'Rio Grande do Norte')| (d22['ESTADO'] == 'Paraíba')| (d22['ESTADO'] == 'Pernambuco')| (d22['ESTADO'] == 'Alagoas')| (d22['ESTADO'] == 'Sergipe')| (d22['ESTADO'] == 'Bahia')]\n",
    "nordeste2014b = nordeste2014b[(nordeste2014b['RENDA PER CAPITA (em R$)']<9999999999)]\n",
    "\n",
    "nordeste2014b.loc[(dados.REG2014 =='URBANA - Cidade ou vila, área urbanizada') |(dados.REG2014 == 'URBANA - Cidade ou vila, área não urbanizada')|(dados.REG2014 =='URBANA - área urbana isolada'), 'ZONA2'] = 'Urbana'\n",
    "nordeste2014b.loc[(dados.REG2014 =='RURAL - Aglomerado rural de extensão urbana')|(dados.REG2014 == 'RURAL - Aglomerado rural, isolado, povoado')|(dados.REG2014 =='RURAL - Aglomerado rural, isolado, núcleo') | (dados.REG2014 == 'RURAL - Aglomerado rural, isolado, outros aglomerados')|(dados.REG2014 == 'RURAL - Zona rural exclusive aglomerado rural'), 'ZONA2']= 'Rural'\n",
    "\n",
    "nordeste2014b = nordeste2014b.dropna()"
   ]
  },
  {
   "cell_type": "code",
   "execution_count": 70,
   "metadata": {},
   "outputs": [],
   "source": [
    "dados.UF2015.cat.categories = (['Rondônia','Acre','Amazonas','Roraima','Pará','Amapá','Tocantins','Maranhão','Piauí','Ceará','Rio Grande do Norte','Paraíba','Pernambuco','Alagoas','Sergipe','Bahia','Minas Gerais','Espírito Santo','Rio de Janeiro','São Paulo','Paraná','Santa Catarina','Rio Grande do Sul','Mato Grosso do Sul','Mato Grosso','Goiás','Distrito Federal'])\n",
    "dados.ACESSO2015.cat.categories = (['Possui acesso','Não possui acesso'])\n",
    "dados.COMP2015.cat.categories = (['Sim','Não'])\n",
    "dados.CEL2015.cat.categories = (['Sim','Não'])\n",
    "dados.REG2015.cat.categories = (['URBANA - Cidade ou vila, área urbanizada', 'URBANA - Cidade ou vila, área não urbanizada','URBANA - área urbana isolada','RURAL - Aglomerado rural de extensão urbana','RURAL - Aglomerado rural, isolado, povoado','RURAL - Aglomerado rural, isolado, núcleo','RURAL - Aglomerado rural, isolado, outros aglomerados','RURAL - Zona rural exclusive aglomerado rural'])\n",
    "dados.TAB2015.cat.categories = (['Sim','Não'])\n",
    "\n",
    "d3 = pd.concat([dados.UF2015, dados.REG2015, dados.SALARIO2015, dados.ACESSO2015], axis = 1)\n",
    "d3.columns = ['ESTADO','ZONA','RENDA PER CAPITA (em R$)','ACESSO À INTERNET EM CASA']\n",
    "nordeste2015a = d3[(d3['ESTADO'] == 'Maranhão') | (d3['ESTADO'] == 'Piauí')| (d3['ESTADO'] == 'Ceará')| (d3['ESTADO'] == 'Rio Grande do Norte')| (d3['ESTADO'] == 'Paraíba')| (d3['ESTADO'] == 'Pernambuco')| (d3['ESTADO'] == 'Alagoas')| (d3['ESTADO'] == 'Sergipe')| (d3['ESTADO'] == 'Bahia')]\n",
    "nordeste2015a = nordeste2015a.dropna()\n",
    "\n",
    "nordeste2015a.loc[(dados.REG2015 =='URBANA - Cidade ou vila, área urbanizada') |(dados.REG2015 == 'URBANA - Cidade ou vila, área não urbanizada')|(dados.REG2015 =='URBANA - área urbana isolada'), 'ZONA2'] = 'Urbana'\n",
    "nordeste2015a.loc[(dados.REG2015 =='RURAL - Aglomerado rural de extensão urbana')|(dados.REG2015 == 'RURAL - Aglomerado rural, isolado, povoado')|(dados.REG2015 =='RURAL - Aglomerado rural, isolado, núcleo') | (dados.REG2015 == 'RURAL - Aglomerado rural, isolado, outros aglomerados')|(dados.REG2015 == 'RURAL - Zona rural exclusive aglomerado rural'), 'ZONA2']= 'Rural'\n"
   ]
  },
  {
   "cell_type": "code",
   "execution_count": 71,
   "metadata": {},
   "outputs": [],
   "source": [
    "d32 = pd.concat([dados.UF2015, dados.REG2015, dados.SALARIO2015, dados.ACESSO2015, dados.COMP2015, dados.CEL2015, dados.TAB2015], axis = 1)\n",
    "d32.columns = ['ESTADO','ZONA','RENDA PER CAPITA (em R$)','ACESSO À INTERNET EM CASA','ACESSO À INTERNET POR MICROCOMPUTADOR', 'ACESSO À INTERNET POR CELULAR', 'ACESSO À INTERNET POR TABLET' ]\n",
    "nordeste2015b = d32[(d32['ESTADO'] == 'Maranhão') | (d32['ESTADO'] == 'Piauí')| (d32['ESTADO'] == 'Ceará')| (d32['ESTADO'] == 'Rio Grande do Norte')| (d32['ESTADO'] == 'Paraíba')| (d32['ESTADO'] == 'Pernambuco')| (d32['ESTADO'] == 'Alagoas')| (d32['ESTADO'] == 'Sergipe')| (d32['ESTADO'] == 'Bahia')]\n",
    "nordeste2015b = nordeste1[(nordeste1['RENDA PER CAPITA (em R$)']<9999999999)]\n",
    "\n",
    "nordeste2015b.loc[(dados.REG2015 =='URBANA - Cidade ou vila, área urbanizada') |(dados.REG2015 == 'URBANA - Cidade ou vila, área não urbanizada')|(dados.REG2015 =='URBANA - área urbana isolada'), 'ZONA2'] = 'Urbana'\n",
    "nordeste2015b.loc[(dados.REG2015 =='RURAL - Aglomerado rural de extensão urbana')|(dados.REG2015 == 'RURAL - Aglomerado rural, isolado, povoado')|(dados.REG2015 =='RURAL - Aglomerado rural, isolado, núcleo') | (dados.REG2015 == 'RURAL - Aglomerado rural, isolado, outros aglomerados')|(dados.REG2015 == 'RURAL - Zona rural exclusive aglomerado rural'), 'ZONA2']= 'Rural'\n",
    "\n",
    "nordeste2015b = nordeste2015b.dropna()"
   ]
  },
  {
   "cell_type": "code",
   "execution_count": 72,
   "metadata": {},
   "outputs": [
    {
     "data": {
      "text/plain": [
       "count    14734.000000\n",
       "mean      1161.596783\n",
       "std       1812.846212\n",
       "min          0.000000\n",
       "25%        366.000000\n",
       "50%        656.000000\n",
       "75%       1200.000000\n",
       "max      45000.000000\n",
       "Name: RENDA PER CAPITA (em R$), dtype: float64"
      ]
     },
     "execution_count": 72,
     "metadata": {},
     "output_type": "execute_result"
    }
   ],
   "source": [
    "nordeste2014b['RENDA PER CAPITA (em R$)'].describe()"
   ]
  },
  {
   "cell_type": "code",
   "execution_count": 40,
   "metadata": {},
   "outputs": [
    {
     "data": {
      "text/plain": [
       "count    15870.000000\n",
       "mean      1128.647385\n",
       "std       1735.482211\n",
       "min          0.000000\n",
       "25%        390.000000\n",
       "50%        650.000000\n",
       "75%       1166.000000\n",
       "max      40380.000000\n",
       "Name: RENDA PER CAPITA (em R$), dtype: float64"
      ]
     },
     "execution_count": 40,
     "metadata": {},
     "output_type": "execute_result"
    }
   ],
   "source": [
    "nordeste2015b['RENDA PER CAPITA (em R$)'].describe()"
   ]
  },
  {
   "cell_type": "code",
   "execution_count": 150,
   "metadata": {
    "collapsed": true
   },
   "outputs": [],
   "source": [
    "faixa = arange(0,10000,100)"
   ]
  },
  {
   "cell_type": "code",
   "execution_count": 151,
   "metadata": {
    "collapsed": true
   },
   "outputs": [],
   "source": [
    "k2 = pd.cut(nordeste2014b['RENDA PER CAPITA (em R$)'], bins=faixa, right=False)\n",
    "\n",
    "k3 = pd.cut(nordeste2015b['RENDA PER CAPITA (em R$)'], bins=faixa, right=False)"
   ]
  },
  {
   "cell_type": "code",
   "execution_count": 152,
   "metadata": {},
   "outputs": [
    {
     "data": {
      "image/png": "[encoded data removed]",
      "text/plain": [
       "<matplotlib.figure.Figure at 0x1b242458710>"
      ]
     },
     "metadata": {},
     "output_type": "display_data"
    }
   ],
   "source": [
    "plot2 = nordeste2014b['RENDA PER CAPITA (em R$)'].plot.hist(bins=faixa, title='RENDA PER CAPITA NO NORDESTE - 2014', figsize=(12,10), normed = 1, alpha=0.5, color='r')\n",
    "#plt.ylabel('Frequência absoluta')\n",
    "#plt.xlabel('RENDA (em reais)')\n",
    "#plt.grid()\n",
    "#plt.show()\n",
    "\n",
    "plot3 = nordeste2015b['RENDA PER CAPITA (em R$)'].plot.hist(bins=faixa, title='RENDA PER CAPITA NO NORDESTE - 2015', figsize=(12,10), normed = 1, alpha=0.5,color='b')\n",
    "plt.ylabel('Frequência absoluta')\n",
    "plt.xlabel('RENDA (em reais)')\n",
    "plt.grid()\n",
    "plt.show()"
   ]
  },
  {
   "cell_type": "code",
   "execution_count": null,
   "metadata": {
    "collapsed": true
   },
   "outputs": [],
   "source": []
  },
  {
   "cell_type": "code",
   "execution_count": 104,
   "metadata": {},
   "outputs": [
    {
     "data": {
      "text/plain": [
       "<matplotlib.axes._subplots.AxesSubplot at 0x1b241617ba8>"
      ]
     },
     "execution_count": 104,
     "metadata": {},
     "output_type": "execute_result"
    },
    {
     "data": {
      "image/png": "[encoded data removed]",
      "text/plain": [
       "<matplotlib.figure.Figure at 0x1b2415fb390>"
      ]
     },
     "metadata": {},
     "output_type": "display_data"
    }
   ],
   "source": [
    "fig = plt.figure(figsize=(15, 5))\n",
    "\n",
    "plt.subplot(131)\n",
    "evc2 = nordeste2014b['ZONA2'].value_counts()\n",
    "evc2.plot(kind='pie', colors=('b', 'r'), autopct=\"%.2f\", title='Zona de habitação dos usuários de internet em 2014 (%)', legend=False)\n",
    "\n",
    "plt.subplot(133)\n",
    "evc3 = nordeste2015b['ZONA2'].value_counts()\n",
    "evc3.plot(kind='pie', colors=('b', 'r'), autopct=\"%.2f\", title='Zona de habitação dos usuários de internet em 2015 (%)', legend=False)"
   ]
  },
  {
   "cell_type": "code",
   "execution_count": 124,
   "metadata": {},
   "outputs": [
    {
     "data": {
      "text/html": [
       "<div>\n",
       "<style>\n",
       "    .dataframe thead tr:only-child th {\n",
       "        text-align: right;\n",
       "    }\n",
       "\n",
       "    .dataframe thead th {\n",
       "        text-align: left;\n",
       "    }\n",
       "\n",
       "    .dataframe tbody tr th {\n",
       "        vertical-align: top;\n",
       "    }\n",
       "</style>\n",
       "<table border=\"1\" class=\"dataframe\">\n",
       "  <thead>\n",
       "    <tr style=\"text-align: right;\">\n",
       "      <th>ESTADOS</th>\n",
       "      <th>Maranhão</th>\n",
       "      <th>Piauí</th>\n",
       "      <th>Ceará</th>\n",
       "      <th>Rio Grande do Norte</th>\n",
       "      <th>Paraíba</th>\n",
       "      <th>Pernambuco</th>\n",
       "      <th>Alagoas</th>\n",
       "      <th>Sergipe</th>\n",
       "      <th>Bahia</th>\n",
       "      <th>All</th>\n",
       "    </tr>\n",
       "    <tr>\n",
       "      <th>ACESSO À INTERNET EM CASA</th>\n",
       "      <th></th>\n",
       "      <th></th>\n",
       "      <th></th>\n",
       "      <th></th>\n",
       "      <th></th>\n",
       "      <th></th>\n",
       "      <th></th>\n",
       "      <th></th>\n",
       "      <th></th>\n",
       "      <th></th>\n",
       "    </tr>\n",
       "  </thead>\n",
       "  <tbody>\n",
       "    <tr>\n",
       "      <th>Possui acesso</th>\n",
       "      <td>31.627349</td>\n",
       "      <td>36.554133</td>\n",
       "      <td>45.524208</td>\n",
       "      <td>49.811083</td>\n",
       "      <td>48.571429</td>\n",
       "      <td>49.445644</td>\n",
       "      <td>38.27607</td>\n",
       "      <td>51.900052</td>\n",
       "      <td>48.794042</td>\n",
       "      <td>46.114256</td>\n",
       "    </tr>\n",
       "    <tr>\n",
       "      <th>Não possui acesso</th>\n",
       "      <td>68.372651</td>\n",
       "      <td>63.445867</td>\n",
       "      <td>54.475792</td>\n",
       "      <td>50.188917</td>\n",
       "      <td>51.428571</td>\n",
       "      <td>50.554356</td>\n",
       "      <td>61.72393</td>\n",
       "      <td>48.099948</td>\n",
       "      <td>51.205958</td>\n",
       "      <td>53.885744</td>\n",
       "    </tr>\n",
       "  </tbody>\n",
       "</table>\n",
       "</div>"
      ],
      "text/plain": [
       "ESTADOS                     Maranhão      Piauí      Ceará  \\\n",
       "ACESSO À INTERNET EM CASA                                    \n",
       "Possui acesso              31.627349  36.554133  45.524208   \n",
       "Não possui acesso          68.372651  63.445867  54.475792   \n",
       "\n",
       "ESTADOS                    Rio Grande do Norte    Paraíba  Pernambuco  \\\n",
       "ACESSO À INTERNET EM CASA                                               \n",
       "Possui acesso                        49.811083  48.571429   49.445644   \n",
       "Não possui acesso                    50.188917  51.428571   50.554356   \n",
       "\n",
       "ESTADOS                     Alagoas    Sergipe      Bahia        All  \n",
       "ACESSO À INTERNET EM CASA                                             \n",
       "Possui acesso              38.27607  51.900052  48.794042  46.114256  \n",
       "Não possui acesso          61.72393  48.099948  51.205958  53.885744  "
      ]
     },
     "execution_count": 124,
     "metadata": {},
     "output_type": "execute_result"
    }
   ],
   "source": [
    "ct2=pd.crosstab(nordeste2014a['ACESSO À INTERNET EM CASA'], nordeste2014a['ESTADO'], margins=True, rownames=['ACESSO À INTERNET EM CASA'], colnames=['ESTADOS'], normalize='columns')*100\n",
    "ct2 = ct2.head(2)\n",
    "\n",
    "ct3=pd.crosstab(nordeste2015a['ACESSO À INTERNET EM CASA'], nordeste2015a['ESTADO'], margins=True, rownames=['ACESSO À INTERNET EM CASA'], colnames=['ESTADOS'], normalize='columns')*100\n",
    "ct3 = ct3.head(2)\n",
    "\n",
    "ct2"
   ]
  },
  {
   "cell_type": "code",
   "execution_count": 125,
   "metadata": {},
   "outputs": [
    {
     "data": {
      "text/html": [
       "<div>\n",
       "<style>\n",
       "    .dataframe thead tr:only-child th {\n",
       "        text-align: right;\n",
       "    }\n",
       "\n",
       "    .dataframe thead th {\n",
       "        text-align: left;\n",
       "    }\n",
       "\n",
       "    .dataframe tbody tr th {\n",
       "        vertical-align: top;\n",
       "    }\n",
       "</style>\n",
       "<table border=\"1\" class=\"dataframe\">\n",
       "  <thead>\n",
       "    <tr style=\"text-align: right;\">\n",
       "      <th>ESTADOS</th>\n",
       "      <th>Maranhão</th>\n",
       "      <th>Piauí</th>\n",
       "      <th>Ceará</th>\n",
       "      <th>Rio Grande do Norte</th>\n",
       "      <th>Paraíba</th>\n",
       "      <th>Pernambuco</th>\n",
       "      <th>Alagoas</th>\n",
       "      <th>Sergipe</th>\n",
       "      <th>Bahia</th>\n",
       "      <th>All</th>\n",
       "    </tr>\n",
       "    <tr>\n",
       "      <th>ACESSO À INTERNET EM CASA</th>\n",
       "      <th></th>\n",
       "      <th></th>\n",
       "      <th></th>\n",
       "      <th></th>\n",
       "      <th></th>\n",
       "      <th></th>\n",
       "      <th></th>\n",
       "      <th></th>\n",
       "      <th></th>\n",
       "      <th></th>\n",
       "    </tr>\n",
       "  </thead>\n",
       "  <tbody>\n",
       "    <tr>\n",
       "      <th>Possui acesso</th>\n",
       "      <td>33.128599</td>\n",
       "      <td>36.86067</td>\n",
       "      <td>45.601852</td>\n",
       "      <td>55.916775</td>\n",
       "      <td>53.723677</td>\n",
       "      <td>53.82929</td>\n",
       "      <td>40.0</td>\n",
       "      <td>57.411273</td>\n",
       "      <td>53.043478</td>\n",
       "      <td>49.252494</td>\n",
       "    </tr>\n",
       "    <tr>\n",
       "      <th>Não possui acesso</th>\n",
       "      <td>66.871401</td>\n",
       "      <td>63.13933</td>\n",
       "      <td>54.398148</td>\n",
       "      <td>44.083225</td>\n",
       "      <td>46.276323</td>\n",
       "      <td>46.17071</td>\n",
       "      <td>60.0</td>\n",
       "      <td>42.588727</td>\n",
       "      <td>46.956522</td>\n",
       "      <td>50.747506</td>\n",
       "    </tr>\n",
       "  </tbody>\n",
       "</table>\n",
       "</div>"
      ],
      "text/plain": [
       "ESTADOS                     Maranhão     Piauí      Ceará  \\\n",
       "ACESSO À INTERNET EM CASA                                   \n",
       "Possui acesso              33.128599  36.86067  45.601852   \n",
       "Não possui acesso          66.871401  63.13933  54.398148   \n",
       "\n",
       "ESTADOS                    Rio Grande do Norte    Paraíba  Pernambuco  \\\n",
       "ACESSO À INTERNET EM CASA                                               \n",
       "Possui acesso                        55.916775  53.723677    53.82929   \n",
       "Não possui acesso                    44.083225  46.276323    46.17071   \n",
       "\n",
       "ESTADOS                    Alagoas    Sergipe      Bahia        All  \n",
       "ACESSO À INTERNET EM CASA                                            \n",
       "Possui acesso                 40.0  57.411273  53.043478  49.252494  \n",
       "Não possui acesso             60.0  42.588727  46.956522  50.747506  "
      ]
     },
     "execution_count": 125,
     "metadata": {},
     "output_type": "execute_result"
    }
   ],
   "source": [
    "ct3"
   ]
  },
  {
   "cell_type": "code",
   "execution_count": 129,
   "metadata": {},
   "outputs": [
    {
     "data": {
      "text/plain": [
       "<matplotlib.legend.Legend at 0x1b23762bcc0>"
      ]
     },
     "execution_count": 129,
     "metadata": {},
     "output_type": "execute_result"
    },
    {
     "data": {
      "image/png": "[encoded data removed]",
      "text/plain": [
       "<matplotlib.figure.Figure at 0x1b2376cec18>"
      ]
     },
     "metadata": {},
     "output_type": "display_data"
    },
    {
     "data": {
      "image/png": "[encoded data removed]",
      "text/plain": [
       "<matplotlib.figure.Figure at 0x1b242d7d860>"
      ]
     },
     "metadata": {},
     "output_type": "display_data"
    }
   ],
   "source": [
    "plot = ct2.T.plot(kind='bar', stacked=True,title='DOMICÍLIOS COM ACESSO À INTERNET NO NORDESTE (POR ESTADO) - 2014',fontsize=15)\n",
    "plot.set_ylim([0, 100])\n",
    "plt.ylabel('Freq.Relativa (em %)')\n",
    "plt.grid()\n",
    "\n",
    "ax = plt.subplot(111)\n",
    "box = ax.get_position()\n",
    "ax.set_position([box.x0, box.y0, box.width * 2, box.height*2])\n",
    "ax.legend(loc='center left', bbox_to_anchor=(1, 0.5))\n",
    "\n",
    "plot = ct3.T.plot(kind='bar', stacked=True,title='DOMICÍLIOS COM ACESSO À INTERNET NO NORDESTE (POR ESTADO) - 2015',fontsize=15)\n",
    "plot.set_ylim([0, 100])\n",
    "plt.ylabel('Freq.Relativa (em %)')\n",
    "plt.grid()\n",
    "\n",
    "ax = plt.subplot(111)\n",
    "box = ax.get_position()\n",
    "ax.set_position([box.x0, box.y0, box.width *2, box.height*2])\n",
    "ax.legend(loc='center left', bbox_to_anchor=(1, 0.5))"
   ]
  },
  {
   "cell_type": "code",
   "execution_count": 135,
   "metadata": {
    "collapsed": true
   },
   "outputs": [],
   "source": [
    "cel3 = nordeste2015b[nordeste2015b['ACESSO À INTERNET POR CELULAR']=='Sim']\n",
    "mc3 = nordeste2015b[nordeste2015b['ACESSO À INTERNET POR MICROCOMPUTADOR']=='Sim']\n",
    "tab3 = nordeste2015b[nordeste2015b['ACESSO À INTERNET POR TABLET']=='Sim']"
   ]
  },
  {
   "cell_type": "code",
   "execution_count": 136,
   "metadata": {},
   "outputs": [
    {
     "name": "stdout",
     "output_type": "stream",
     "text": [
      "Número de pessoas que acessam a internet pelo celular\n"
     ]
    },
    {
     "data": {
      "text/plain": [
       "Sim    14983\n",
       "Não        0\n",
       "Name: ACESSO À INTERNET POR CELULAR, dtype: int64"
      ]
     },
     "execution_count": 136,
     "metadata": {},
     "output_type": "execute_result"
    }
   ],
   "source": [
    "print('Número de pessoas que acessam a internet pelo celular')\n",
    "a3 = pd.value_counts(cel3['ACESSO À INTERNET POR CELULAR'])\n",
    "a3"
   ]
  },
  {
   "cell_type": "code",
   "execution_count": 137,
   "metadata": {},
   "outputs": [
    {
     "name": "stdout",
     "output_type": "stream",
     "text": [
      "Número de pessoas que acessam a internet pelo microcomputador\n"
     ]
    },
    {
     "data": {
      "text/plain": [
       "Sim    9383\n",
       "Não       0\n",
       "Name: ACESSO À INTERNET POR MICROCOMPUTADOR, dtype: int64"
      ]
     },
     "execution_count": 137,
     "metadata": {},
     "output_type": "execute_result"
    }
   ],
   "source": [
    "print('Número de pessoas que acessam a internet pelo microcomputador')\n",
    "b3 = pd.value_counts(mc3['ACESSO À INTERNET POR MICROCOMPUTADOR'])\n",
    "b3"
   ]
  },
  {
   "cell_type": "code",
   "execution_count": 138,
   "metadata": {},
   "outputs": [
    {
     "name": "stdout",
     "output_type": "stream",
     "text": [
      "Número de pessoas que acessam a internet pelo tablet\n"
     ]
    },
    {
     "data": {
      "text/plain": [
       "Sim    2914\n",
       "Não       0\n",
       "Name: ACESSO À INTERNET POR TABLET, dtype: int64"
      ]
     },
     "execution_count": 138,
     "metadata": {},
     "output_type": "execute_result"
    }
   ],
   "source": [
    "print('Número de pessoas que acessam a internet pelo tablet')\n",
    "c3 = pd.value_counts(tab3['ACESSO À INTERNET POR TABLET'])\n",
    "c3"
   ]
  },
  {
   "cell_type": "code",
   "execution_count": 131,
   "metadata": {
    "collapsed": true
   },
   "outputs": [],
   "source": [
    "x3 = {'Modo de acesso':pd.Series(['Celular','Microcomputador','Tablet'],index=['Celular','Microcomputador','Tablet'])}\n",
    "\n",
    "x3 = pd.DataFrame(x3)"
   ]
  },
  {
   "cell_type": "code",
   "execution_count": 132,
   "metadata": {
    "collapsed": true
   },
   "outputs": [],
   "source": [
    "y3 = {'Número de domícilios':pd.Series([15147,9498,2963],index=['Celular','Microcomputador','Tablet'])}\n",
    "\n",
    "y3 = pd.DataFrame(y3)"
   ]
  },
  {
   "cell_type": "code",
   "execution_count": 133,
   "metadata": {},
   "outputs": [
    {
     "data": {
      "text/html": [
       "<div>\n",
       "<style>\n",
       "    .dataframe thead tr:only-child th {\n",
       "        text-align: right;\n",
       "    }\n",
       "\n",
       "    .dataframe thead th {\n",
       "        text-align: left;\n",
       "    }\n",
       "\n",
       "    .dataframe tbody tr th {\n",
       "        vertical-align: top;\n",
       "    }\n",
       "</style>\n",
       "<table border=\"1\" class=\"dataframe\">\n",
       "  <thead>\n",
       "    <tr style=\"text-align: right;\">\n",
       "      <th></th>\n",
       "      <th>Modo de acesso</th>\n",
       "      <th>Número de domícilios</th>\n",
       "    </tr>\n",
       "  </thead>\n",
       "  <tbody>\n",
       "    <tr>\n",
       "      <th>Celular</th>\n",
       "      <td>Celular</td>\n",
       "      <td>15147</td>\n",
       "    </tr>\n",
       "    <tr>\n",
       "      <th>Microcomputador</th>\n",
       "      <td>Microcomputador</td>\n",
       "      <td>9498</td>\n",
       "    </tr>\n",
       "    <tr>\n",
       "      <th>Tablet</th>\n",
       "      <td>Tablet</td>\n",
       "      <td>2963</td>\n",
       "    </tr>\n",
       "  </tbody>\n",
       "</table>\n",
       "</div>"
      ],
      "text/plain": [
       "                  Modo de acesso  Número de domícilios\n",
       "Celular                  Celular                 15147\n",
       "Microcomputador  Microcomputador                  9498\n",
       "Tablet                    Tablet                  2963"
      ]
     },
     "execution_count": 133,
     "metadata": {},
     "output_type": "execute_result"
    }
   ],
   "source": [
    "tabf3 = pd.concat([x3,y3], axis=1)\n",
    "tabf3"
   ]
  },
  {
   "cell_type": "code",
   "execution_count": 134,
   "metadata": {},
   "outputs": [
    {
     "data": {
      "text/plain": [
       "(0, 16044)"
      ]
     },
     "execution_count": 134,
     "metadata": {},
     "output_type": "execute_result"
    },
    {
     "data": {
      "image/png": "[encoded data removed]",
      "text/plain": [
       "<matplotlib.figure.Figure at 0x1b2420d9da0>"
      ]
     },
     "metadata": {},
     "output_type": "display_data"
    }
   ],
   "source": [
    "ax = tabf3.plot(kind='bar', title =\"MODALIDADES DE ACESSO À INTERNET NO NORDESTE - 2015\",figsize=(10,10),legend=False, fontsize=12,color='b')\n",
    "plt.grid()\n",
    "plt.ylabel('Nº DE DOMÍCILIOS')\n",
    "plt.xlabel('MODO DE ACESSO À INTERNET')\n",
    "plot.set_ylim([0, 16044])"
   ]
  },
  {
   "cell_type": "code",
   "execution_count": 24,
   "metadata": {
    "collapsed": true
   },
   "outputs": [],
   "source": [
    "nordeste.to_csv('Projeto1_HugoGR.csv', index=False, encoding='utf-8')"
   ]
  },
  {
   "cell_type": "code",
   "execution_count": null,
   "metadata": {
    "collapsed": true
   },
   "outputs": [],
   "source": []
  }
 ],
 "metadata": {
  "kernelspec": {
   "display_name": "Python 3",
   "language": "python",
   "name": "python3"
  },
  "language_info": {
   "codemirror_mode": {
    "name": "ipython",
    "version": 3
   },
   "file_extension": ".py",
   "mimetype": "text/x-python",
   "name": "python",
   "nbconvert_exporter": "python",
   "pygments_lexer": "ipython3",
   "version": "3.6.1"
  }
 },
 "nbformat": 4,
 "nbformat_minor": 2
}
